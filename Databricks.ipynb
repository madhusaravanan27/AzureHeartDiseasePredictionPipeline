{
 "cells": [
  {
   "cell_type": "code",
   "execution_count": 0,
   "metadata": {
    "application/vnd.databricks.v1+cell": {
     "cellMetadata": {
      "byteLimit": 2048000,
      "rowLimit": 10000
     },
     "inputWidgets": {},
     "nuid": "d97ac94d-044b-4fb0-8f6a-7689d001232f",
     "showTitle": false,
     "tableResultSettingsMap": {},
     "title": ""
    }
   },
   "outputs": [
    {
     "output_type": "stream",
     "name": "stdout",
     "output_type": "stream",
     "text": [
      "+---+---+---------------+------------+-----------+-------------------+-----------+--------------+---------------+-------+--------+------+\n|age|sex|chest pain type|resting bp s|cholesterol|fasting blood sugar|resting ecg|max heart rate|exercise angina|oldpeak|ST slope|target|\n+---+---+---------------+------------+-----------+-------------------+-----------+--------------+---------------+-------+--------+------+\n| 40|  1|              2|         140|        289|                  0|          0|           172|              0|    0.0|       1|     0|\n| 49|  0|              3|         160|        180|                  0|          0|           156|              0|    1.0|       2|     1|\n| 37|  1|              2|         130|        283|                  0|          1|            98|              0|    0.0|       1|     0|\n| 48|  0|              4|         138|        214|                  0|          0|           108|              1|    1.5|       2|     1|\n| 54|  1|              3|         150|        195|                  0|          0|           122|              0|    0.0|       1|     0|\n+---+---+---------------+------------+-----------+-------------------+-----------+--------------+---------------+-------+--------+------+\nonly showing top 5 rows\n\nroot\n |-- age: integer (nullable = true)\n |-- sex: integer (nullable = true)\n |-- chest pain type: integer (nullable = true)\n |-- resting bp s: integer (nullable = true)\n |-- cholesterol: integer (nullable = true)\n |-- fasting blood sugar: integer (nullable = true)\n |-- resting ecg: integer (nullable = true)\n |-- max heart rate: integer (nullable = true)\n |-- exercise angina: integer (nullable = true)\n |-- oldpeak: double (nullable = true)\n |-- ST slope: integer (nullable = true)\n |-- target: integer (nullable = true)\n\n"
     ]
    }
   ],
   "source": [
    "# Storage account details\n",
    "storage_account_name = \"heartdisease\"\n",
    "storage_account_key = \"j9hfEzQWp/ibQ5HDycbM5MbUYdDU8PMy6i5IeaL//MVhOMJsRt84NyjMzFbiU4VVgv5N3kIQ+X+m+AStiUcfiw==\"\n",
    "container_name = \"prediction\"\n",
    "\n",
    "# Configure Databricks to access Azure Blob Storage\n",
    "spark.conf.set(\n",
    "    f\"fs.azure.account.key.{storage_account_name}.blob.core.windows.net\",\n",
    "    storage_account_key\n",
    ")\n",
    "\n",
    "# Define the file path for your dataset in the Blob Storage container\n",
    "file_path = \"wasbs://prediction@heartdisease.blob.core.windows.net/heart_statlog_cleveland_hungary_final.csv\"\n",
    "\n",
    "# Read the dataset from Blob Storage\n",
    "df = spark.read.csv(file_path, header=True, inferSchema=True)\n",
    "\n",
    "# Show the first few rows of the dataset\n",
    "df.show(5)\n",
    "\n",
    "# Print the schema of the dataset\n",
    "df.printSchema()\n"
   ]
  },
  {
   "cell_type": "code",
   "execution_count": 0,
   "metadata": {
    "application/vnd.databricks.v1+cell": {
     "cellMetadata": {
      "byteLimit": 2048000,
      "rowLimit": 10000
     },
     "inputWidgets": {},
     "nuid": "c778421e-fa96-416c-89d7-7aeaf17b318f",
     "showTitle": false,
     "tableResultSettingsMap": {},
     "title": ""
    }
   },
   "outputs": [
    {
     "output_type": "stream",
     "name": "stdout",
     "output_type": "stream",
     "text": [
      "+-------+-----------------+-------------------+------------------+------------------+------------------+-------------------+------------------+------------------+-------------------+------------------+------------------+-------------------+\n|summary|              age|                sex|   chest pain type|      resting bp s|       cholesterol|fasting blood sugar|       resting ecg|    max heart rate|    exercise angina|           oldpeak|          ST slope|             target|\n+-------+-----------------+-------------------+------------------+------------------+------------------+-------------------+------------------+------------------+-------------------+------------------+------------------+-------------------+\n|  count|             1190|               1190|              1190|              1190|              1190|               1190|              1190|              1190|               1190|              1190|              1190|               1190|\n|   mean|53.72016806722689| 0.7638655462184873|3.2327731092436975|132.15378151260504|210.36386554621848| 0.2134453781512605|0.6983193277310924| 139.7327731092437| 0.3873949579831933|0.9227731092436973|1.6243697478991597| 0.5285714285714286|\n| stddev|9.358202797635402|0.42488430967547397|0.9354803611454026| 18.36882341526593|101.42048904518853|0.40991175684732806|0.8703588379852893|25.517635548982856|0.48735992951791496|1.0863372185219835|0.6104592139541695|0.49939287903118634|\n|    min|               28|                  0|                 1|                 0|                 0|                  0|                 0|                60|                  0|              -2.6|                 0|                  0|\n|    max|               77|                  1|                 4|               200|               603|                  1|                 2|               202|                  1|               6.2|                 3|                  1|\n+-------+-----------------+-------------------+------------------+------------------+------------------+-------------------+------------------+------------------+-------------------+------------------+------------------+-------------------+\n\nTotal Rows: 1190, Total Columns: 12\n"
     ]
    }
   ],
   "source": [
    "# Display basic statistics for numerical columns\n",
    "df.describe().show()\n",
    "\n",
    "# Count rows and columns\n",
    "print(f\"Total Rows: {df.count()}, Total Columns: {len(df.columns)}\")\n"
   ]
  },
  {
   "cell_type": "code",
   "execution_count": 0,
   "metadata": {
    "application/vnd.databricks.v1+cell": {
     "cellMetadata": {
      "byteLimit": 2048000,
      "rowLimit": 10000
     },
     "inputWidgets": {},
     "nuid": "d3af9164-3737-4888-852c-44347f6c9fd2",
     "showTitle": false,
     "tableResultSettingsMap": {},
     "title": ""
    }
   },
   "outputs": [
    {
     "output_type": "stream",
     "name": "stdout",
     "output_type": "stream",
     "text": [
      "+------+-----+\n|target|count|\n+------+-----+\n|     1|  629|\n|     0|  561|\n+------+-----+\n\n+------------------+\n| corr(age, target)|\n+------------------+\n|0.2620287733426452|\n+------------------+\n\n+-------------------------+\n|corr(cholesterol, target)|\n+-------------------------+\n|      -0.1983663196793619|\n+-------------------------+\n\n"
     ]
    }
   ],
   "source": [
    "# Count of target classes\n",
    "df.groupBy(\"target\").count().show()\n",
    "\n",
    "from pyspark.sql.functions import corr\n",
    "\n",
    "# Correlation between age and target\n",
    "df.select(corr(\"age\", \"target\")).show()\n",
    "\n",
    "# Correlation between cholesterol and target\n",
    "df.select(corr(\"cholesterol\", \"target\")).show()\n"
   ]
  },
  {
   "cell_type": "code",
   "execution_count": 0,
   "metadata": {
    "application/vnd.databricks.v1+cell": {
     "cellMetadata": {
      "byteLimit": 2048000,
      "rowLimit": 10000
     },
     "inputWidgets": {},
     "nuid": "a1fe011d-e4ad-4068-b6a5-733143b87b3d",
     "showTitle": false,
     "tableResultSettingsMap": {},
     "title": ""
    }
   },
   "outputs": [
    {
     "output_type": "stream",
     "name": "stdout",
     "output_type": "stream",
     "text": [
      "+-----+-----+---------------+------------+-----------+-------------------+-----------+--------------+---------------+-------+--------+------+\n|  age|  sex|chest pain type|resting bp s|cholesterol|fasting blood sugar|resting ecg|max heart rate|exercise angina|oldpeak|ST slope|target|\n+-----+-----+---------------+------------+-----------+-------------------+-----------+--------------+---------------+-------+--------+------+\n|false|false|          false|       false|      false|              false|      false|         false|          false|  false|   false| false|\n|false|false|          false|       false|      false|              false|      false|         false|          false|  false|   false| false|\n|false|false|          false|       false|      false|              false|      false|         false|          false|  false|   false| false|\n|false|false|          false|       false|      false|              false|      false|         false|          false|  false|   false| false|\n|false|false|          false|       false|      false|              false|      false|         false|          false|  false|   false| false|\n|false|false|          false|       false|      false|              false|      false|         false|          false|  false|   false| false|\n|false|false|          false|       false|      false|              false|      false|         false|          false|  false|   false| false|\n|false|false|          false|       false|      false|              false|      false|         false|          false|  false|   false| false|\n|false|false|          false|       false|      false|              false|      false|         false|          false|  false|   false| false|\n|false|false|          false|       false|      false|              false|      false|         false|          false|  false|   false| false|\n|false|false|          false|       false|      false|              false|      false|         false|          false|  false|   false| false|\n|false|false|          false|       false|      false|              false|      false|         false|          false|  false|   false| false|\n|false|false|          false|       false|      false|              false|      false|         false|          false|  false|   false| false|\n|false|false|          false|       false|      false|              false|      false|         false|          false|  false|   false| false|\n|false|false|          false|       false|      false|              false|      false|         false|          false|  false|   false| false|\n|false|false|          false|       false|      false|              false|      false|         false|          false|  false|   false| false|\n|false|false|          false|       false|      false|              false|      false|         false|          false|  false|   false| false|\n|false|false|          false|       false|      false|              false|      false|         false|          false|  false|   false| false|\n|false|false|          false|       false|      false|              false|      false|         false|          false|  false|   false| false|\n|false|false|          false|       false|      false|              false|      false|         false|          false|  false|   false| false|\n+-----+-----+---------------+------------+-----------+-------------------+-----------+--------------+---------------+-------+--------+------+\nonly showing top 20 rows\n\n"
     ]
    }
   ],
   "source": [
    "# Count nulls in each column\n",
    "df.select([df[c].isNull().alias(c) for c in df.columns]).show()\n",
    "\n",
    "df = df.fillna({\"cholesterol\": 0, \"resting bp s\": 120})\n",
    "\n"
   ]
  },
  {
   "cell_type": "code",
   "execution_count": 0,
   "metadata": {
    "application/vnd.databricks.v1+cell": {
     "cellMetadata": {
      "byteLimit": 2048000,
      "rowLimit": 10000
     },
     "inputWidgets": {},
     "nuid": "0ed6ebbd-6068-4da8-9cbb-5a4ac3551d50",
     "showTitle": false,
     "tableResultSettingsMap": {},
     "title": ""
    }
   },
   "outputs": [],
   "source": [
    "from pyspark.sql.functions import when\n",
    "\n",
    "# Convert binary 'sex' column\n",
    "df = df.withColumn(\"sex\", when(df[\"sex\"] == 1, 1).otherwise(0))\n",
    "\n",
    "# One-hot encode 'chest pain type'\n",
    "df = df.withColumn(\"chest_pain_1\", when(df[\"chest pain type\"] == 1, 1).otherwise(0))\n",
    "df = df.withColumn(\"chest_pain_2\", when(df[\"chest pain type\"] == 2, 1).otherwise(0))\n"
   ]
  },
  {
   "cell_type": "code",
   "execution_count": 0,
   "metadata": {
    "application/vnd.databricks.v1+cell": {
     "cellMetadata": {
      "byteLimit": 2048000,
      "rowLimit": 10000
     },
     "inputWidgets": {},
     "nuid": "83acb617-a3dd-4f17-9832-aff3f2c9ce6b",
     "showTitle": false,
     "tableResultSettingsMap": {},
     "title": ""
    }
   },
   "outputs": [],
   "source": [
    "from pyspark.ml.feature import MinMaxScaler, VectorAssembler\n",
    "\n",
    "# Combine columns for scaling\n",
    "assembler = VectorAssembler(inputCols=[\"age\", \"cholesterol\", \"max heart rate\"], outputCol=\"features\")\n",
    "df = assembler.transform(df)\n",
    "\n",
    "# Apply MinMaxScaler\n",
    "scaler = MinMaxScaler(inputCol=\"features\", outputCol=\"scaled_features\")\n",
    "df = scaler.fit(df).transform(df)\n"
   ]
  },
  {
   "cell_type": "code",
   "execution_count": 0,
   "metadata": {
    "application/vnd.databricks.v1+cell": {
     "cellMetadata": {
      "byteLimit": 2048000,
      "rowLimit": 10000
     },
     "inputWidgets": {},
     "nuid": "128fd477-65c0-4085-9049-643955959ef3",
     "showTitle": false,
     "tableResultSettingsMap": {},
     "title": ""
    }
   },
   "outputs": [
    {
     "output_type": "stream",
     "name": "stdout",
     "output_type": "stream",
     "text": [
      "Model Accuracy: 0.6957894736842105\n"
     ]
    }
   ],
   "source": [
    "from pyspark.ml.classification import LogisticRegression\n",
    "\n",
    "# Select scaled features and target for training\n",
    "ml_data = df.select(\"scaled_features\", \"target\")\n",
    "\n",
    "# Split the data into training and testing sets\n",
    "train_data, test_data = ml_data.randomSplit([0.8, 0.2], seed=123)\n",
    "\n",
    "# Train a logistic regression model\n",
    "lr = LogisticRegression(featuresCol=\"scaled_features\", labelCol=\"target\")\n",
    "lr_model = lr.fit(train_data)\n",
    "\n",
    "# Evaluate the model\n",
    "test_results = lr_model.evaluate(test_data)\n",
    "accuracy = lr_model.summary.accuracy\n",
    "print(f\"Model Accuracy: {accuracy}\")\n"
   ]
  },
  {
   "cell_type": "code",
   "execution_count": 0,
   "metadata": {
    "application/vnd.databricks.v1+cell": {
     "cellMetadata": {
      "byteLimit": 2048000,
      "rowLimit": 10000
     },
     "inputWidgets": {},
     "nuid": "9a8af67e-6241-4275-a43a-b0a7fd4e159c",
     "showTitle": false,
     "tableResultSettingsMap": {},
     "title": ""
    }
   },
   "outputs": [
    {
     "output_type": "stream",
     "name": "stdout",
     "output_type": "stream",
     "text": [
      "Accuracy: 0.675\nWeighted Precision: 0.6806616194865043\nWeighted Recall: 0.675\nF1 Score: 0.6708730158730158\nROC-AUC: 0.761865054547981\n"
     ]
    }
   ],
   "source": [
    "from pyspark.ml.evaluation import MulticlassClassificationEvaluator, BinaryClassificationEvaluator\n",
    "\n",
    "# Get predictions from the model\n",
    "predictions = lr_model.transform(test_data)\n",
    "\n",
    "# Evaluate accuracy\n",
    "accuracy_evaluator = MulticlassClassificationEvaluator(labelCol=\"target\", predictionCol=\"prediction\", metricName=\"accuracy\")\n",
    "accuracy = accuracy_evaluator.evaluate(predictions)\n",
    "print(f\"Accuracy: {accuracy}\")\n",
    "\n",
    "# Evaluate precision (for multiclass)\n",
    "precision_evaluator = MulticlassClassificationEvaluator(labelCol=\"target\", predictionCol=\"prediction\", metricName=\"weightedPrecision\")\n",
    "precision = precision_evaluator.evaluate(predictions)\n",
    "print(f\"Weighted Precision: {precision}\")\n",
    "\n",
    "# Evaluate recall (for multiclass)\n",
    "recall_evaluator = MulticlassClassificationEvaluator(labelCol=\"target\", predictionCol=\"prediction\", metricName=\"weightedRecall\")\n",
    "recall = recall_evaluator.evaluate(predictions)\n",
    "print(f\"Weighted Recall: {recall}\")\n",
    "\n",
    "# Evaluate F1-score (for multiclass)\n",
    "f1_evaluator = MulticlassClassificationEvaluator(labelCol=\"target\", predictionCol=\"prediction\", metricName=\"f1\")\n",
    "f1 = f1_evaluator.evaluate(predictions)\n",
    "print(f\"F1 Score: {f1}\")\n",
    "\n",
    "# Evaluate ROC-AUC (for binary classification)\n",
    "roc_auc_evaluator = BinaryClassificationEvaluator(labelCol=\"target\", rawPredictionCol=\"rawPrediction\", metricName=\"areaUnderROC\")\n",
    "roc_auc = roc_auc_evaluator.evaluate(predictions)\n",
    "print(f\"ROC-AUC: {roc_auc}\")\n"
   ]
  },
  {
   "cell_type": "code",
   "execution_count": 0,
   "metadata": {
    "application/vnd.databricks.v1+cell": {
     "cellMetadata": {
      "byteLimit": 2048000,
      "rowLimit": 10000
     },
     "inputWidgets": {},
     "nuid": "27ef7a5b-e5bd-4004-8b61-1d125bc7d5bc",
     "showTitle": false,
     "tableResultSettingsMap": {},
     "title": ""
    }
   },
   "outputs": [
    {
     "output_type": "display_data",
     "data": {
      "text/plain": [
       "\u001B[0;36m  File \u001B[0;32m<command-3559252805844565>, line 1\u001B[0;36m\u001B[0m\n",
       "\u001B[0;31m    wasbs://prediction@heartdisease.blob.core.windows.net/processed/predictions.csv\u001B[0m\n",
       "\u001B[0m          ^\u001B[0m\n",
       "\u001B[0;31mSyntaxError\u001B[0m\u001B[0;31m:\u001B[0m invalid syntax\n"
      ]
     },
     "metadata": {
      "application/vnd.databricks.v1+output": {
       "addedWidgets": {},
       "arguments": {},
       "datasetInfos": [],
       "jupyterProps": {
        "ename": "SyntaxError",
        "evalue": "invalid syntax (command-3559252805844565-1653211425, line 1)"
       },
       "metadata": {
        "errorSummary": "<span class='ansi-red-fg'>SyntaxError</span>: invalid syntax (command-3559252805844565-1653211425, line 1)"
       },
       "removedWidgets": [],
       "sqlProps": null,
       "stackFrames": [
        "\u001B[0;36m  File \u001B[0;32m<command-3559252805844565>, line 1\u001B[0;36m\u001B[0m\n\u001B[0;31m    wasbs://prediction@heartdisease.blob.core.windows.net/processed/predictions.csv\u001B[0m\n\u001B[0m          ^\u001B[0m\n\u001B[0;31mSyntaxError\u001B[0m\u001B[0;31m:\u001B[0m invalid syntax\n"
       ],
       "type": "baseError"
      }
     },
     "output_type": "display_data"
    }
   ],
   "source": [
    "wasbs://prediction@heartdisease.blob.core.windows.net/processed/predictions.csv\n"
   ]
  }
 ],
 "metadata": {
  "application/vnd.databricks.v1+notebook": {
   "computePreferences": null,
   "dashboards": [],
   "environmentMetadata": {
    "base_environment": "",
    "client": "1"
   },
   "language": "python",
   "notebookMetadata": {
    "pythonIndentUnit": 4
   },
   "notebookName": "heartdiseaseprediction",
   "widgets": {}
  },
  "language_info": {
   "name": "python"
  }
 },
 "nbformat": 4,
 "nbformat_minor": 0
}